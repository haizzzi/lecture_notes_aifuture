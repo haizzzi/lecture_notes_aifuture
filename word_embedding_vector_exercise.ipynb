{
  "cells": [
    {
      "cell_type": "markdown",
      "metadata": {
        "id": "view-in-github",
        "colab_type": "text"
      },
      "source": [
        "<a href=\"https://colab.research.google.com/github/haizzzi/lecture_notes_aifuture/blob/main/word_embedding_vector_exercise.ipynb\" target=\"_parent\"><img src=\"https://colab.research.google.com/assets/colab-badge.svg\" alt=\"Open In Colab\"/></a>"
      ]
    },
    {
      "cell_type": "code",
      "source": [
        "from google.colab import drive\n",
        "drive.mount('/content/drive')\n"
      ],
      "metadata": {
        "id": "BxREx6K_6eMr"
      },
      "execution_count": null,
      "outputs": []
    },
    {
      "cell_type": "code",
      "source": [
        "# 1. 원본 fastText 다운로드\n",
        "!git clone https://github.com/facebookresearch/fastText.git\n",
        "%cd fastText\n",
        "# 2. 빌드\n",
        "!make\n",
        "# 3. fasttext 명령 사용\n",
        "!./fasttext"
      ],
      "metadata": {
        "id": "koMtO8rq3_6k",
        "outputId": "e3c74fc9-046d-429a-c7f8-55bbfb8bf064",
        "colab": {
          "base_uri": "https://localhost:8080/"
        }
      },
      "execution_count": null,
      "outputs": [
        {
          "output_type": "stream",
          "name": "stdout",
          "text": [
            "fatal: destination path 'fastText' already exists and is not an empty directory.\n",
            "/content/fastText\n",
            "c++ -pthread -std=c++17 -march=native -O3 -funroll-loops -DNDEBUG -c src/args.cc\n",
            "c++ -pthread -std=c++17 -march=native -O3 -funroll-loops -DNDEBUG -c src/autotune.cc\n",
            "c++ -pthread -std=c++17 -march=native -O3 -funroll-loops -DNDEBUG -c src/matrix.cc\n",
            "c++ -pthread -std=c++17 -march=native -O3 -funroll-loops -DNDEBUG -c src/dictionary.cc\n",
            "c++ -pthread -std=c++17 -march=native -O3 -funroll-loops -DNDEBUG -c src/loss.cc\n",
            "c++ -pthread -std=c++17 -march=native -O3 -funroll-loops -DNDEBUG -c src/productquantizer.cc\n",
            "c++ -pthread -std=c++17 -march=native -O3 -funroll-loops -DNDEBUG -c src/densematrix.cc\n",
            "c++ -pthread -std=c++17 -march=native -O3 -funroll-loops -DNDEBUG -c src/quantmatrix.cc\n",
            "c++ -pthread -std=c++17 -march=native -O3 -funroll-loops -DNDEBUG -c src/vector.cc\n",
            "c++ -pthread -std=c++17 -march=native -O3 -funroll-loops -DNDEBUG -c src/model.cc\n",
            "c++ -pthread -std=c++17 -march=native -O3 -funroll-loops -DNDEBUG -c src/utils.cc\n",
            "c++ -pthread -std=c++17 -march=native -O3 -funroll-loops -DNDEBUG -c src/meter.cc\n",
            "c++ -pthread -std=c++17 -march=native -O3 -funroll-loops -DNDEBUG -c src/fasttext.cc\n",
            "c++ -pthread -std=c++17 -march=native -O3 -funroll-loops -DNDEBUG args.o autotune.o matrix.o dictionary.o loss.o productquantizer.o densematrix.o quantmatrix.o vector.o model.o utils.o meter.o fasttext.o src/main.cc -o fasttext\n",
            "usage: fasttext <command> <args>\n",
            "\n",
            "The commands supported by fasttext are:\n",
            "\n",
            "  supervised              train a supervised classifier\n",
            "  quantize                quantize a model to reduce the memory usage\n",
            "  test                    evaluate a supervised classifier\n",
            "  test-label              print labels with precision and recall scores\n",
            "  predict                 predict most likely labels\n",
            "  predict-prob            predict most likely labels with probabilities\n",
            "  skipgram                train a skipgram model\n",
            "  cbow                    train a cbow model\n",
            "  print-word-vectors      print word vectors given a trained model\n",
            "  print-sentence-vectors  print sentence vectors given a trained model\n",
            "  print-ngrams            print ngrams given a trained model and word\n",
            "  nn                      query for nearest neighbors\n",
            "  analogies               query for analogies\n",
            "  dump                    dump arguments,dictionary,input/output vectors\n",
            "\n"
          ]
        }
      ]
    },
    {
      "cell_type": "code",
      "execution_count": null,
      "metadata": {
        "id": "beFMsPYtfx0V",
        "outputId": "0b60d925-b3d2-4915-d610-b3fc61281b53",
        "colab": {
          "base_uri": "https://localhost:8080/"
        }
      },
      "outputs": [
        {
          "output_type": "stream",
          "name": "stdout",
          "text": [
            "/content/fastText\n",
            "usage: fasttext <command> <args>\n",
            "\n",
            "The commands supported by fasttext are:\n",
            "\n",
            "  supervised              train a supervised classifier\n",
            "  quantize                quantize a model to reduce the memory usage\n",
            "  test                    evaluate a supervised classifier\n",
            "  test-label              print labels with precision and recall scores\n",
            "  predict                 predict most likely labels\n",
            "  predict-prob            predict most likely labels with probabilities\n",
            "  skipgram                train a skipgram model\n",
            "  cbow                    train a cbow model\n",
            "  print-word-vectors      print word vectors given a trained model\n",
            "  print-sentence-vectors  print sentence vectors given a trained model\n",
            "  print-ngrams            print ngrams given a trained model and word\n",
            "  nn                      query for nearest neighbors\n",
            "  analogies               query for analogies\n",
            "  dump                    dump arguments,dictionary,input/output vectors\n",
            "\n"
          ]
        }
      ],
      "source": [
        "!pwd\n",
        "!./fasttext"
      ]
    },
    {
      "cell_type": "code",
      "execution_count": null,
      "metadata": {
        "id": "FdDoOv6Dfx0W",
        "outputId": "18056cc6-9d12-42fe-e729-fbb95d51cd0c",
        "colab": {
          "base_uri": "https://localhost:8080/"
        }
      },
      "outputs": [
        {
          "output_type": "stream",
          "name": "stdout",
          "text": [
            "\" 싼 게 비지떡 \". 200 ml 라고 판매 하 는데 내 가 보 기 엔 절대 이거 100 ml 도 안 된다 . 뚜껑 열 다가 손톱 부러지 고 , 향기 는 에프 킬 라 . . 구매 후기 잘 안 쓰 는데 이건 진짜 최악 이 다 . \n",
            "\" 비싸 ~~~~ 요 \" 라고 후기 를 남기 네요 \n",
            "\" 화이트 \" 로 구매 했 는데 . .. 왜 다른 제품 으로 오 죠 ? 외국 에서 배송 받 지 않 았 다면 . .. 당장 반품 인데 ~~~ \n",
            "\" 화이트 \" 로 구매 했 는데 . .. 다른 제품 으로 배송 되 어 왔 어요 ! ! 여기 가 외국 이 아니 라면 . .. 당장 반품 인데 ~~~ \n",
            "' 듀퐁 골드 ' 구매 했 는데 . . 골드 가 아니 라 X 색 이 네요 . ㅠ . ㅠ 사진 으로 만 봤 을 땐 약간 의 광택 이 있 고 화려 하 리라 생각 했 는데 . . 그렇 지 않 고 완전 텁텁 한 X 색 . .. 이사 하 고 나 서 집들이 손 님 맞이 용 으로 구매 한 거 라 교환 할 시간 도 없 고 해서 그냥 달 았 습니다 . 커튼 설치 는 신랑 이 한 거 라서 쉽 게 했 고요 . 다른 분 리플 과 는 달리 부품 은 여분 으로 많이 주 셔서 남 았 습니다 . 여분 으로 여러 개 온 것 도 모르 고 커튼 봉 에 죄다 넣 어 놔서 놀 고 있 는 부품 들 이 있 네요 . 다시 달 려고 하 니 신랑 이 귀찮 아 해서 포기 . . --; 암막 커튼 으로서 의 기능 은 확실 하 네요 . 한 낮 에 도 햇빛 하나 안 들어오 네요 . ㅋ 너무 어두워서 낮 엔 속 커튼 만 쳐 놓 고 있 어요 . 커튼 천 도 두꺼워서 바람막이 역할 도 확실히 하 네요 . 참고 로 사실 때 가로 x 세로 길 이 확실히 보 시 고 사 시 길 . . 전 가로 길이 만 생각 하 고 세로 길이 를 미처 생각 못 했 거든요 . 달 고 보 니 많이 모자라 네요 . 이런 실수 저 만 하 는 건가 . .? ^^; \n",
            "( NEW ) 하수구 냄새 차단 트랩 하수구 / 싱크대 / 세면대 / 세탁기 냄새 차단 ! ! 하수구 트랩 싱크대 배수구 씽크 대배 수구 냄새 는 어느 정도 차단 되 는 듯 하 나 . . 작 은 날파리 들 은 올라오 네요 -- \n",
            "( 지극히 개인 적 인 후기 ) 색은 차콜 로 했 지만 갈색 이 나오 는 거 같 고 이건 사람 피부색 에 따라 다를 거 같 고 저 는 괜찮 아서 색 은 참 마음 에 드 는데 아무리 유분 기 가 있 게 해서 그려 주 어도 눈썹 이 있 는 살 ( 피부 ) 만 아프 지 정말 잘 그려지 지 않 아요 ㅜㅜ제가 똥 손 이 어서 그런 거 라 생각 하 려 했 는데 아니 에요 ㅠㅠㅠㅠ진짜 그리 고 싶 어도 잘 안 나와서 못 그려요 ㅠㅠ 꾹꾹 눌러서 그려 주 면 나오 기 야 나오 는데 피부 가 너무 아파서 . .. 후 ㅠㅠ삐아 다른 색조 화장품 이나 아이라이너 쪽 은 너무 만족 해서 이것 또한 기대 하 고 구매 한 거 였 는데 그냥 갈색 색연필 로 쓰 려구요 ㅠㅠ허허 . . \n",
            "( 광목 패치 퍼플 . 블루 ; 화면 색상 과 달라도 너무나 다르 고 선명 하 지 않 고 빛바랜 색상 이 네요 . . 커버 두께 는 몇 번 빨 면 다 헤 질 듯이 얇 고 요즘 솜 도 압축 으로 보내 던데 통 으로 보내 서 두께 가 ;; \n",
            "( 행사 특가 ) 라는 표시 는 없애 시 는 게 좋 을 듯 . . 점점 가격 이 내려감 ( 행사 특가 ) 라는 표시 는 없애 시 는 게 좋 을 듯 . . 점점 가격 이 내려감 ( 행사 특가 ) 라는 표시 는 없애 시 는 게 좋 을 듯 . . 점점 가격 이 내려감 ( 행사 특가 ) 라는 표시 는 없애 시 는 게 좋 을 듯 . . 점점 가격 이 내려감 ( 행사 특가 ) 라는 표시 는 없애 시 는 게 좋 을 듯 . . 점점 가격 이 내려감 ( 행사 특가 ) 라는 표시 는 없애 시 는 게 좋 을 듯 . . 점점 가격 이 내려감 ( 행사 특가 ) 라는 표시 는 없애 시 는 게 좋 을 듯 . . 점점 가격 이 내려감 ( 행사 특가 ) 라는 표시 는 없애 시 는 게 좋 을 듯 . . 점점 가격 이 내려감 ( 행사 특가 ) 라는 표시 는 없애 시 는 게 좋 을 듯 . . 점점 가격 이 내려감 ( 행사 특가 ) 라는 표시 는 없애 시 는 게 좋 을 듯 . . 점점 가격 이 내려감 \n",
            "( 행사 특가 ) 페리오 치약 150 g x 20 개 청 은 차 애경 2080 송염 메디안 치석 충치 입 냄새 제거 구취 기능 성 B 상품 선택 : 45 강력 한 스 크 럽 x 4 + 촉촉 한 겔 x 4 \n"
          ]
        }
      ],
      "source": [
        "!head /content/drive/MyDrive/nmt_fold/preproc/fasttext_embedding/review.sorted.uniq.refined.tsv.text.tok"
      ]
    },
    {
      "cell_type": "code",
      "execution_count": null,
      "metadata": {
        "id": "tlNQDYaifx0X",
        "outputId": "c9fd9d10-b768-4b5e-ef2c-4599d4d1eb69",
        "colab": {
          "base_uri": "https://localhost:8080/"
        }
      },
      "outputs": [
        {
          "output_type": "stream",
          "name": "stdout",
          "text": [
            "\rRead 1M words\rRead 2M words\rRead 2M words\n",
            "Number of words:  9348\n",
            "Number of labels: 0\n",
            "Progress: 100.0% words/sec/thread:   13470 lr:  0.000000 avg.loss:  1.953671 ETA:   0h 0m 0s\n"
          ]
        }
      ],
      "source": [
        "!./fasttext skipgram -input /content/drive/MyDrive/nmt_fold/preproc/fasttext_embedding/review.sorted.uniq.refined.tsv.text.tok -output /content/drive/MyDrive/nmt_fold/preproc/fasttext_embedding/ko.tok -dim 256 -epoch 100 -minCount 5"
      ]
    },
    {
      "cell_type": "code",
      "execution_count": null,
      "metadata": {
        "id": "mH7tJ3PEfx0X",
        "outputId": "e06f8298-addc-4bf9-8f0d-8a655b0fa807",
        "colab": {
          "base_uri": "https://localhost:8080/"
        }
      },
      "outputs": [
        {
          "output_type": "stream",
          "name": "stdout",
          "text": [
            "Query word? 저희 0.496984\n",
            "우리 0.495369\n",
            "에서 0.40328\n",
            "주택 0.358594\n",
            "아파트 0.355808\n",
            "층 0.347642\n",
            "가 0.34212\n",
            "앞 0.340222\n",
            "막내 0.336096\n",
            "처가 0.330336\n",
            "Query word? "
          ]
        }
      ],
      "source": [
        "!echo '집' | ./fasttext nn /content/drive/MyDrive/nmt_fold/preproc/fasttext_embedding/ko.tok.bin 10"
      ]
    },
    {
      "cell_type": "code",
      "execution_count": null,
      "metadata": {
        "id": "hcPtMnYffx0Y",
        "outputId": "93d38820-79a5-43fc-f982-8a3e73d63dd1",
        "colab": {
          "base_uri": "https://localhost:8080/"
        }
      },
      "outputs": [
        {
          "output_type": "stream",
          "name": "stdout",
          "text": [
            "9348 256\n",
            ". -0.026481 -0.022822 -0.021594 0.051767 0.20173 -0.060942 0.085713 0.13428 0.011423 0.13589 -0.018337 -0.0058533 0.0154 0.13516 0.079939 0.1303 -0.059021 0.015706 -0.11087 0.12676 -0.0029362 -0.0013719 -0.16768 -0.033189 0.033579 0.12828 -0.052974 0.047082 0.029385 -0.069777 -0.18764 0.019918 -0.038975 -0.023325 -0.016678 -0.14529 -0.053085 -0.10196 0.014686 -0.023808 -0.10245 -0.0055624 0.066209 -0.084585 -0.062254 0.053526 -0.073344 -0.054087 0.082931 -0.16457 -0.057668 0.048979 -0.037094 -0.021022 -0.062739 -0.13991 0.0038294 0.0010369 0.066416 0.09722 -0.026411 -0.032789 0.13187 0.038714 0.0038203 0.034708 -0.11679 0.015174 0.15796 0.0023636 -0.028435 0.10893 -0.024413 0.087125 -0.13117 0.060942 0.0039961 -0.00073247 0.0027845 -0.0096716 -0.04191 0.011554 0.13723 0.032587 0.035917 -0.081212 0.069576 0.073243 0.031075 0.0070217 0.091388 0.03837 0.13115 0.20215 0.045274 -0.024726 0.0075859 -0.080036 -0.0037662 0.10093 -0.071407 -0.15787 0.12128 -0.033315 -0.05873 0.0862 -0.068441 -0.034017 0.12639 0.061502 -0.018353 0.066831 0.093364 0.11005 0.11176 0.043051 0.0072511 0.12709 -0.087062 -0.096087 -0.034073 0.00022337 0.013498 0.014364 -0.016694 -0.044826 -0.095906 -0.030163 -0.031386 0.011183 -0.059598 0.17602 -0.043556 0.026431 0.051617 -0.16577 0.023242 -0.032164 0.10761 -0.10691 0.034557 0.025687 0.025544 0.10936 0.016773 0.024519 0.088267 0.0269 -0.11269 -0.16662 -0.17718 0.010364 0.021822 0.081368 0.15351 -0.088972 -0.089234 -0.031124 0.01249 0.013009 -0.035964 -0.035512 -0.019514 0.0084073 0.0065716 -0.055326 -0.084137 -0.1184 0.14194 -0.020701 -0.054158 0.04752 -0.071164 -0.093242 0.072333 -0.019275 -0.0035351 -0.024145 0.11221 0.22594 -0.086695 -0.056242 0.056225 -0.018362 0.05919 0.032045 0.033178 0.049382 0.030251 -0.068288 0.044493 0.097591 -0.026823 -0.046787 -0.00345 -0.075557 0.090437 0.0014981 0.16955 0.10513 -0.014713 0.10866 0.060012 -0.019581 0.036252 -0.029616 -0.065191 0.16408 0.080021 0.16552 -0.017373 -0.020334 -0.10759 0.017431 -0.051344 -0.11028 0.075412 -0.011455 0.033619 0.058355 -0.1338 0.07215 0.061645 -0.064509 -0.057939 0.029748 0.0071126 -0.0028158 -0.021868 0.022592 0.0088862 0.050813 -0.051749 -0.078392 -0.17404 0.028046 0.13481 -0.027142 0.02594 0.0043246 0.087536 -0.027998 0.053265 0.0087626 0.068432 -0.016483 -0.028553 0.10081 0.084705 -0.1122 -0.067232 0.08812 -0.11986 -0.0038721 -0.09158 -0.033513 \n"
          ]
        }
      ],
      "source": [
        "!head -n 2 /content/drive/MyDrive/nmt_fold/preproc/fasttext_embedding/ko.tok.vec"
      ]
    },
    {
      "cell_type": "markdown",
      "source": [
        "fasttest로 classification을 수행한다. 우선 학습을 한다."
      ],
      "metadata": {
        "id": "Vj9gdtoXAyLf"
      }
    },
    {
      "cell_type": "code",
      "execution_count": null,
      "metadata": {
        "id": "3Dariy7Dfx0Y",
        "outputId": "5cfa0167-9803-4b39-c7c9-7a01b1246899",
        "colab": {
          "base_uri": "https://localhost:8080/"
        }
      },
      "outputs": [
        {
          "output_type": "stream",
          "name": "stdout",
          "text": [
            "Read 4M words\n",
            "Number of words:  45889\n",
            "Number of labels: 2\n",
            "Progress: 100.0% words/sec/thread:  390419 lr:  0.000000 avg.loss:  0.250799 ETA:   0h 0m 0s\n"
          ]
        }
      ],
      "source": [
        "!./fasttext supervised -input /content/drive/MyDrive/nmt_fold/preproc/fasttext_classify/review.sorted.uniq.refined.tok.shuf.fasttext.train.txt -output /content/drive/MyDrive/nmt_fold/preproc/fasttext_classify/review.model"
      ]
    },
    {
      "cell_type": "markdown",
      "source": [
        "전체 test에 대해서 성능 확인"
      ],
      "metadata": {
        "id": "y3BW4D8gBgUG"
      }
    },
    {
      "cell_type": "code",
      "source": [
        "!./fasttext test /content/drive/MyDrive/nmt_fold/preproc/fasttext_classify/review.model.bin /content/drive/MyDrive/nmt_fold/preproc/fasttext_classify/review.sorted.uniq.refined.tok.shuf.fasttext.test.txt"
      ],
      "metadata": {
        "id": "ZUIDZINEBJaP",
        "outputId": "551d05bb-b067-4801-b1cd-66028daf15bb",
        "colab": {
          "base_uri": "https://localhost:8080/"
        }
      },
      "execution_count": null,
      "outputs": [
        {
          "output_type": "stream",
          "name": "stdout",
          "text": [
            "N\t30000\n",
            "P@1\t0.922\n",
            "R@1\t0.922\n"
          ]
        }
      ]
    },
    {
      "cell_type": "markdown",
      "source": [
        "직접 테스트 한다."
      ],
      "metadata": {
        "id": "g3Wz5i0QBb43"
      }
    },
    {
      "cell_type": "code",
      "source": [
        "!pwd\n",
        "!./fasttext predict /content/drive/MyDrive/nmt_fold/preproc/fasttext_classify/review.model.bin /content/drive/MyDrive/nmt_fold/preproc/fasttext_classify/review.sorted.uniq.refined.tok.shuf.test.no_label.txt | head"
      ],
      "metadata": {
        "id": "etEYe24FBXA2",
        "outputId": "dc38c24b-4962-4611-fb8d-5ed9bce3446f",
        "colab": {
          "base_uri": "https://localhost:8080/"
        }
      },
      "execution_count": null,
      "outputs": [
        {
          "output_type": "stream",
          "name": "stdout",
          "text": [
            "/content/fastText\n",
            "__label__positive\n",
            "__label__positive\n",
            "__label__positive\n",
            "__label__positive\n",
            "__label__positive\n",
            "__label__positive\n",
            "__label__positive\n",
            "__label__negative\n",
            "__label__negative\n",
            "__label__positive\n"
          ]
        }
      ]
    },
    {
      "cell_type": "code",
      "source": [
        "!head /content/drive/MyDrive/nmt_fold/preproc/fasttext_classify/review.sorted.uniq.refined.tok.shuf.fasttext.test.txt"
      ],
      "metadata": {
        "id": "oLX5EG4XBvun",
        "outputId": "9e809e35-ce80-4b3f-9584-cee6fd979e0b",
        "colab": {
          "base_uri": "https://localhost:8080/"
        }
      },
      "execution_count": null,
      "outputs": [
        {
          "output_type": "stream",
          "name": "stdout",
          "text": [
            "__label__positive 생각 보다 밝 아요 ㅎㅎ \n",
            "__label__negative 쓸 대 가 없 네요 \n",
            "__label__positive 깔 금 해요 . 가벼워 요 . 설치 가 쉬워요 . 타 사이트 에 비해 가격 도 저렴 하 답니다 . \n",
            "__label__positive 크기 나 두께 가 딱 제 가 원 하 던 사이즈 네요 . 책상 의자 가 너무 딱딱 해서 쿠션 감 좋 은 방석 이 필요 하 던 차 에 좋 은 제품 만났 네요 . 냄새 얘기 하 시 는 분 도 더러 있 던데 별로 냄새 안 나 요 . \n",
            "__label__positive 빠르 고 괜찬 습니다 . \n",
            "__label__positive 유통 기한 도 넉넉 하 고 좋 아요 \n",
            "__label__positive 좋 은 가격 에 좋 은 상품 잘 쓰 겠 습니다 . \n",
            "__label__negative 사이트 에서 늘 생리대 사 서 쓰 는데 오늘 처럼 이렇게 비닐 에 포장 되 어 받 아 본 건 처음 입니다 . 위생 용품 이 고 자체 도 비닐 포장 이 건만 소형 박스 에 라도 넣 어 보내 주 시 지 . .. \n",
            "__label__negative 연결 부분 이 많이 티 가 납니다 . 재질 구김 도 좀 있 습니다 . \n",
            "__label__positive 애기 태열 때문 에 구매 해서 잘 쓰 고 있 습니다 . \n"
          ]
        }
      ]
    }
  ],
  "metadata": {
    "kernelspec": {
      "display_name": "Python 3",
      "language": "python",
      "name": "python3"
    },
    "language_info": {
      "codemirror_mode": {
        "name": "ipython",
        "version": 3
      },
      "file_extension": ".py",
      "mimetype": "text/x-python",
      "name": "python",
      "nbconvert_exporter": "python",
      "pygments_lexer": "ipython3",
      "version": "3.7.6"
    },
    "colab": {
      "provenance": [],
      "include_colab_link": true
    }
  },
  "nbformat": 4,
  "nbformat_minor": 0
}