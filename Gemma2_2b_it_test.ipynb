{
  "cells": [
    {
      "cell_type": "markdown",
      "metadata": {
        "id": "view-in-github",
        "colab_type": "text"
      },
      "source": [
        "<a href=\"https://colab.research.google.com/github/haizzzi/lecture_notes_aifuture/blob/main/Gemma2_2b_it_test.ipynb\" target=\"_parent\"><img src=\"https://colab.research.google.com/assets/colab-badge.svg\" alt=\"Open In Colab\"/></a>"
      ]
    },
    {
      "cell_type": "code",
      "execution_count": null,
      "metadata": {
        "id": "_PtQlfXIwTev"
      },
      "outputs": [],
      "source": [
        "# 0) 런타임: GPU(T4) 선택\n",
        "# 1) 필수 패키지 설치\n",
        "!pip -q install -U transformers accelerate bitsandbytes sentencepiece\n",
        "\n",
        "\n"
      ]
    },
    {
      "cell_type": "code",
      "execution_count": null,
      "metadata": {
        "id": "mqba7cfdwZNj"
      },
      "outputs": [],
      "source": [
        "# 2) (한번만) 허깅페이스 로그인\n",
        "from huggingface_hub import login\n",
        "login(\"hf_xxx...\")  # 이러면 위젯 출력이 안 남음\n"
      ]
    },
    {
      "cell_type": "code",
      "execution_count": null,
      "metadata": {
        "id": "OO8wvgIqwd7D"
      },
      "outputs": [],
      "source": [
        "import os\n",
        "os.environ[\"HF_HOME\"] = \"/content/drive/MyDrive/huggingface_cache\"  # <- 여기로 모델/토크나이저 캐시 저장\n",
        "\n",
        "import torch\n",
        "from transformers import AutoTokenizer, AutoModelForCausalLM\n",
        "import os\n",
        "\n",
        "os.environ['HF_TOKEN'] = \"huggingface에서 발급한 토큰 입력\"\n",
        "\n",
        "tokenizer = AutoTokenizer.from_pretrained('google/gemma-2-2b-it')\n",
        "model = AutoModelForCausalLM.from_pretrained('google/gemma-2-2b-it')\n",
        "\n",
        "\n"
      ]
    },
    {
      "cell_type": "code",
      "execution_count": null,
      "metadata": {
        "id": "M0RRZKmpwfrL"
      },
      "outputs": [],
      "source": [
        "input_text = \"너에 대해서 설명해 줄래?\"\n",
        "input_ids = tokenizer(input_text, return_tensors=\"pt\")\n",
        "\n",
        "outputs = model.generate(**input_ids, max_length=512)\n",
        "print(tokenizer.decode(outputs[0]))\n"
      ]
    }
  ],
  "metadata": {
    "accelerator": "GPU",
    "colab": {
      "gpuType": "T4",
      "provenance": [],
      "authorship_tag": "ABX9TyM8FmGhRpXaMf1+L3NTEHcD",
      "include_colab_link": true
    },
    "kernelspec": {
      "display_name": "Python 3",
      "name": "python3"
    },
    "language_info": {
      "name": "python"
    }
  },
  "nbformat": 4,
  "nbformat_minor": 0
}