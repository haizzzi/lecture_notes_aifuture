{
  "cells": [
    {
      "cell_type": "markdown",
      "metadata": {
        "id": "view-in-github",
        "colab_type": "text"
      },
      "source": [
        "<a href=\"https://colab.research.google.com/github/haizzzi/lecture_notes_aifuture/blob/main/Gemma2_2b_it_test.ipynb\" target=\"_parent\"><img src=\"https://colab.research.google.com/assets/colab-badge.svg\" alt=\"Open In Colab\"/></a>"
      ]
    },
    {
      "cell_type": "code",
      "execution_count": 1,
      "metadata": {
        "id": "_PtQlfXIwTev"
      },
      "outputs": [],
      "source": [
        "# 0) 런타임: GPU(T4) 선택\n",
        "# 1) 필수 패키지 설치\n",
        "!pip -q install -U transformers\n",
        "\n",
        "\n"
      ]
    },
    {
      "cell_type": "code",
      "execution_count": 2,
      "metadata": {
        "id": "mqba7cfdwZNj"
      },
      "outputs": [],
      "source": [
        "# 2) (한번만) 허깅페이스 로그인\n",
        "from huggingface_hub import login\n",
        "login(\"hf_\")  # 이러면 위젯 출력이 안 남음\n"
      ]
    },
    {
      "cell_type": "code",
      "execution_count": null,
      "metadata": {
        "id": "OO8wvgIqwd7D"
      },
      "outputs": [],
      "source": [
        "import os\n",
        "os.environ[\"HF_HOME\"] = \"/content/drive/MyDrive/huggingface_cache\"  # <- 여기로 모델/토크나이저 캐시 저장\n",
        "\n",
        "import torch\n",
        "from transformers import AutoTokenizer, AutoModelForCausalLM\n",
        "import os\n",
        "\n",
        "cache_dir = \"/content/drive/MyDrive/huggingface_cache\"\n",
        "\n",
        "os.environ['HF_TOKEN'] = \"hf_\"\n",
        "\n",
        "tokenizer = AutoTokenizer.from_pretrained('google/gemma-2-2b-it',cache_dir=cache_dir)\n",
        "model = AutoModelForCausalLM.from_pretrained('google/gemma-2-2b-it',cache_dir=cache_dir)\n",
        "\n",
        "# GPU로 모델 이동 (GPU 사용 가능할 경우)\n",
        "device = \"cuda\" if torch.cuda.is_available() else \"cpu\"\n",
        "model = model.to(device)\n"
      ]
    },
    {
      "cell_type": "code",
      "execution_count": 6,
      "metadata": {
        "id": "M0RRZKmpwfrL",
        "colab": {
          "base_uri": "https://localhost:8080/"
        },
        "outputId": "aad75ec0-5e3e-47d8-8147-08086d1cb53c"
      },
      "outputs": [
        {
          "output_type": "stream",
          "name": "stderr",
          "text": [
            "/usr/local/lib/python3.11/dist-packages/torch/_inductor/compile_fx.py:194: UserWarning: TensorFloat32 tensor cores for float32 matrix multiplication available but not enabled. Consider setting `torch.set_float32_matmul_precision('high')` for better performance.\n",
            "  warnings.warn(\n",
            "W0819 13:48:45.956000 694 torch/_inductor/utils.py:1137] [0/0] Not enough SMs to use max_autotune_gemm mode\n"
          ]
        },
        {
          "output_type": "stream",
          "name": "stdout",
          "text": [
            "너에 대해서 설명해 줄래?\n",
            "\n",
            "**제가 뭘 하는지**\n",
            "\n",
            "저는 Google에서 개발한 대규모 언어 모델입니다. \n",
            "\n",
            "**내가 어떤 사람인지**\n",
            "\n",
            "저는 사람처럼 말하고 생각할 수 있는 AI입니다. \n",
            "\n",
            "**내가 할 수 있는 일**\n",
            "\n",
            "* **질문에 답변:** 다양한 주제에 대한 질문에 답변할 수 있습니다.\n",
            "* **텍스트 생성:** 이야기, 시, 글, 코드 등 다양한 형식의 텍스트를 생성할 수 있습니다.\n",
            "* **번역:** 다양한 언어를 번역할 수 있습니다.\n",
            "* **요약:** 긴 텍스트를 요약할 수 있습니다.\n",
            "* **대화:** 사람처럼 대화할 수 있습니다.\n",
            "\n",
            "**내가 아닌 것**\n",
            "\n",
            "* **실제 세계 경험이 없습니다.** \n",
            "* **개인적인 의견이나 감정이 없습니다.** \n",
            "* **자신의 생각이나 의견을 표현할 수 없습니다.** \n",
            "* **실시간 정보에 접근할 수 없습니다.** \n",
            "\n",
            "**주의사항**\n",
            "\n",
            "* **오류가 발생할 수 있습니다.** \n",
            "* **모든 정보는 정확하지 않을 수 있습니다.** \n",
            "* **모든 질문에 답변할 수 없습니다.** \n",
            "\n",
            "**결론**\n",
            "\n",
            "저는 Google에서 개발한 대규모 언어 모델입니다. 사람처럼 말하고 생각할 수 있는 AI이며, 다양한 작업을 수행할 수 있습니다. 하지만 실제 세계 경험이 없고 개인적인 의견이나 감정이 없으며, 실시간 정보에 접근할 수 없습니다. \n",
            "\n",
            "\n",
            "\n"
          ]
        }
      ],
      "source": [
        "# 입력\n",
        "input_text = \"너에 대해서 설명해 줄래?\"\n",
        "input_ids = tokenizer(input_text, return_tensors=\"pt\").to(device)\n",
        "\n",
        "# 생성\n",
        "outputs = model.generate(**input_ids, max_length=512)\n",
        "print(tokenizer.decode(outputs[0], skip_special_tokens=True))\n"
      ]
    },
    {
      "cell_type": "code",
      "source": [],
      "metadata": {
        "id": "Q6JNWQUxkBTu"
      },
      "execution_count": null,
      "outputs": []
    }
  ],
  "metadata": {
    "accelerator": "GPU",
    "colab": {
      "gpuType": "L4",
      "provenance": [],
      "mount_file_id": "1x7vdH0fwN9-Hti9FOmVacsiVI3cwUlt-",
      "authorship_tag": "ABX9TyOFAODBVsNFd4DZHHd42+si",
      "include_colab_link": true
    },
    "kernelspec": {
      "display_name": "Python 3",
      "name": "python3"
    },
    "language_info": {
      "name": "python"
    }
  },
  "nbformat": 4,
  "nbformat_minor": 0
}